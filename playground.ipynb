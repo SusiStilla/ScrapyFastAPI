{
 "cells": [
  {
   "cell_type": "markdown",
   "id": "de815e27",
   "metadata": {},
   "source": [
    "### Argomento 1: Decorators\n",
    "\n",
    "**Nozioni Teoriche:**\n",
    "In Python, le funzioni sono \"oggetti di prima classe\" (first-class objects). Questo significa che possono essere trattate come qualsiasi altro oggetto: puoi passarle come argomenti ad altre funzioni, restituirle da altre funzioni e assegnarle a variabili.\n",
    "\n",
    "Un **decorator** è una funzione che prende un'altra funzione come argomento, le aggiunge delle funzionalità e restituisce una nuova funzione \"decorata\". Il tutto avviene senza modificare il codice sorgente della funzione originale. La sintassi `@nome_decorator` è una scorciatoia (syntactic sugar) per `mia_funzione = nome_decorator(mia_funzione)`.\n",
    "\n",
    "Sono estremamente utili per aggiungere funzionalità trasversali come logging, caching, controllo degli accessi, timing, etc.\n",
    "\n",
    "**Esercizio 1: Crea un decorator `timer`**\n",
    "\n",
    "**Obiettivo:** Scrivi un decorator chiamato `timer` che misuri il tempo di esecuzione di una qualsiasi funzione e stampi a schermo il tempo impiegato."
   ]
  },
  {
   "cell_type": "code",
   "execution_count": 5,
   "id": "c8f94b48",
   "metadata": {},
   "outputs": [
    {
     "name": "stdout",
     "output_type": "stream",
     "text": [
      "Inizio operazione...\n",
      "...Operazione terminata.\n",
      "La funzione 'long_running_function' ha impiegato 10.5980 secondi per essere eseguita.\n",
      "...Operazione terminata.\n",
      "La funzione 'long_running_function' ha impiegato 10.5980 secondi per essere eseguita.\n"
     ]
    }
   ],
   "source": [
    "import time\n",
    "from functools import wraps\n",
    "\n",
    "def timer(func):\n",
    "    \"\"\"\n",
    "    Un decorator che stampa il tempo di esecuzione della funzione che decora.\n",
    "    \"\"\"\n",
    "    @wraps(func)\n",
    "    def wrapper_timer(*args, **kwargs):\n",
    "        start_time = time.perf_counter()    # 1. Registra il tempo di inizio\n",
    "        value = func(*args, **kwargs)       # 2. Esegui la funzione originale\n",
    "        end_time = time.perf_counter()      # 3. Registra il tempo di fine\n",
    "        run_time = end_time - start_time    # 4. Calcola il tempo trascorso\n",
    "        print(f\"La funzione '{func.__name__}' ha impiegato {run_time:.4f} secondi per essere eseguita.\")\n",
    "        return value\n",
    "    return wrapper_timer\n",
    "\n",
    "@timer\n",
    "def long_running_function():\n",
    "    \"\"\"\n",
    "    Una funzione che simula un'operazione lunga.\n",
    "    \"\"\"\n",
    "    print(\"Inizio operazione...\")\n",
    "    time.sleep(2)\n",
    "    print(\"...Operazione terminata.\")\n",
    "\n",
    "# Chiamando la funzione, il decorator verrà eseguito automaticamente\n",
    "long_running_function()"
   ]
  },
  {
   "cell_type": "markdown",
   "id": "6cb76422",
   "metadata": {},
   "source": [
    "### Argomento 2: Generatori e l'istruzione `yield`\n",
    "\n",
    "**Nozioni Teoriche:**\n",
    "I **generatori** sono un modo semplice per creare iteratori. Mentre una normale funzione `return` un valore e termina, una funzione che usa `yield` produce una sequenza di valori \"on demand\" (su richiesta).\n",
    "\n",
    "Quando una funzione generatore viene chiamata, non esegue il codice; restituisce un oggetto generatore. Ogni volta che si itera su questo oggetto (ad esempio con un ciclo `for` o con la funzione `next()`), il codice della funzione viene eseguito fino a quando non incontra un'istruzione `yield`. A quel punto, \"cede\" il valore specificato, mette in pausa la sua esecuzione e salva il suo stato locale. Alla successiva richiesta, riprende esattamente da dove si era interrotta.\n",
    "\n",
    "Questo approccio è chiamato **lazy evaluation** ed è estremamente efficiente in termini di memoria, specialmente quando si lavora con sequenze di dati molto grandi (o addirittura infinite), perché i valori non vengono mai memorizzati tutti insieme.\n",
    "\n",
    "**Esercizio 2: Crea un generatore per la sequenza di Fibonacci**\n",
    "\n",
    "**Obiettivo:** Scrivi una funzione generatore chiamata `fib_generator` che accetti un numero `limit` e produca (yield) i numeri della sequenza di Fibonacci fino a quel limite.\n",
    "\n",
    "**Ricorda:** La sequenza di Fibonacci inizia con 0 e 1, e ogni numero successivo è la somma dei due precedenti (0, 1, 1, 2, 3, 5, 8, ...)."
   ]
  },
  {
   "cell_type": "code",
   "execution_count": 6,
   "id": "1c8c6c49",
   "metadata": {},
   "outputs": [
    {
     "name": "stdout",
     "output_type": "stream",
     "text": [
      "Numeri di Fibonacci fino a 50:\n",
      "0 1 1 2 3 5 8 13 21 34 \n",
      "\n",
      "--- Altro modo di usare un generatore ---\n",
      "\n",
      "Otteniamo i primi 3 numeri di Fibonacci fino a 20, uno per uno:\n",
      "Primo: 0\n",
      "Secondo: 1\n",
      "Terzo: 1\n"
     ]
    }
   ],
   "source": [
    "def fib_generator(limit):\n",
    "    \"\"\"\n",
    "    Generatore per la sequenza di Fibonacci fino a un limite (escluso).\n",
    "    \"\"\"\n",
    "    # Inizializziamo i primi due numeri della sequenza\n",
    "    a, b = 0, 1\n",
    "    \n",
    "    # Continuiamo a generare numeri finché 'a' è minore del limite\n",
    "    while a < limit:\n",
    "        yield a  # 1. \"Cede\" il valore corrente 'a' e mette in pausa l'esecuzione\n",
    "        \n",
    "        # 2. Aggiorna i valori per la prossima iterazione\n",
    "        # Il vecchio 'b' diventa il nuovo 'a'\n",
    "        # La somma dei vecchi 'a' and 'b' diventa il nuovo 'b'\n",
    "        a, b = b, a + b\n",
    "\n",
    "# --- Esempio di utilizzo ---\n",
    "\n",
    "# Itera sul generatore e stampa ogni numero\n",
    "print(\"Numeri di Fibonacci fino a 50:\")\n",
    "for number in fib_generator(50):\n",
    "    print(number, end=\" \")\n",
    "\n",
    "print(\"\\n\\n--- Altro modo di usare un generatore ---\")\n",
    "# Possiamo anche usare la funzione next() per ottenere i valori uno alla volta\n",
    "\n",
    "fib_gen_obj = fib_generator(20) # Questo NON esegue la funzione, crea solo l'oggetto generatore\n",
    "print(\"\\nOtteniamo i primi 3 numeri di Fibonacci fino a 20, uno per uno:\")\n",
    "print(f\"Primo: {next(fib_gen_obj)}\")\n",
    "print(f\"Secondo: {next(fib_gen_obj)}\")\n",
    "print(f\"Terzo: {next(fib_gen_obj)}\")"
   ]
  },
  {
   "cell_type": "code",
   "execution_count": null,
   "id": "8eacfc18",
   "metadata": {},
   "outputs": [],
   "source": []
  }
 ],
 "metadata": {
  "kernelspec": {
   "display_name": ".venv",
   "language": "python",
   "name": "python3"
  },
  "language_info": {
   "codemirror_mode": {
    "name": "ipython",
    "version": 3
   },
   "file_extension": ".py",
   "mimetype": "text/x-python",
   "name": "python",
   "nbconvert_exporter": "python",
   "pygments_lexer": "ipython3",
   "version": "3.12.11"
  }
 },
 "nbformat": 4,
 "nbformat_minor": 5
}
